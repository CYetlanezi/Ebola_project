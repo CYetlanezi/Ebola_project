{
 "cells": [
  {
   "cell_type": "code",
   "execution_count": 1,
   "metadata": {},
   "outputs": [],
   "source": [
    "#https://github.com/silpara/simulators/blob/master/compartmental_models/SEIR%20Simulator%20in%20Python.ipynb\n",
    "import os\n",
    "import sys\n",
    "import matplotlib.pyplot as plt\n",
    "import numpy as np\n",
    "import pandas as pd\n",
    "import seaborn as sns\n",
    "from scipy.integrate import odeint\n",
    "import plotly.graph_objects as go\n",
    "import plotly.io as pio\n",
    "pio.renderers.default = \"notebook\"\n",
    "%matplotlib inline\n",
    "plt.style.use('ggplot')\n",
    "\n",
    "# Jupyter Specifics\n",
    "from IPython.display import HTML\n",
    "from ipywidgets.widgets import interact, IntSlider, FloatSlider, Layout\n",
    "style = {'description_width': '100px'}\n",
    "slider_layout = Layout(width='99%')"
   ]
  },
  {
   "cell_type": "code",
   "execution_count": 2,
   "metadata": {},
   "outputs": [],
   "source": [
    "# Definicion de variables\n",
    "\n",
    "# S - Poblacion susceptible\n",
    "S = 86000000\n",
    "#Q- Poblacion en cuarentena\n",
    "Q = 0.0\n",
    "# I - Poblacion Infectada\n",
    "I = 2619\n",
    "# H - Poblacion en hospitalizacion\n",
    "H = 0\n",
    "# R - Poblacion recuperada\n",
    "R = 0\n",
    "# D - Poblacion que murio\n",
    "D = 1729\n",
    "# N - Poblacion total\n",
    "N = S + Q + I + H + R + D\n",
    "\n",
    "w = 0.8\n",
    "Gamma = 0.5\n",
    "Omega = 0.5\n",
    "epsilon = 0.1\n",
    "omega = 0.1\n",
    "phi = 0.0001\n",
    "q = 0.1\n",
    "\n",
    "# Dias - dias de simulacion\n",
    "dias = 1000"
   ]
  },
  {
   "cell_type": "markdown",
   "metadata": {},
   "source": [
    "El modelo:\n",
    "\n",
    "$\\frac{dS}{dt} = \\pi - (\\lambda + v + \\mu + q) S$\n",
    "\n",
    "$\\frac{dQ}{dt} = qS - (1-w) \\delta_Q Q - \\mu Q$\n",
    "\n",
    "$\\frac{dI}{dt} = \\lambda S - ((1-w) \\delta_I + \\gamma_I + \\sigma_I + \\mu) I$\n",
    "\n",
    "$\\frac{dH}{dt} = (1-w) (\\delta_Q Q + \\delta_I I) - (\\sigma_H + \\gamma_H + \\mu) H$\n",
    "\n",
    "$\\frac{dR}{dt} = v S + \\gamma_I I + \\gamma_H H - \\mu R$\n",
    "\n",
    "$\\frac{dD}{dt} = \\sigma_I I + \\sigma_H H - \\rho D$\n",
    "\n",
    "con\n",
    "\n",
    "$\\lambda = \\frac{\\beta (I + \\alpha_H H + \\alpha_M D)}{N}$"
   ]
  },
  {
   "cell_type": "code",
   "execution_count": 3,
   "metadata": {},
   "outputs": [],
   "source": [
    "def lambda_x(Beta, I, H, D, N, alpha_h=0.5, alpha_m=0.9):\n",
    "    \"\"\"\n",
    "    Esta función calcula la tasa de contagio de acuerdo a:\n",
    "    Beta - La tasa de contacto\n",
    "    I - El número de infectados\n",
    "    H - El número de hospitalizados\n",
    "    D - El número de muertos\n",
    "    N - La población total\n",
    "    alpha_h - Tasa de contagio de hospitalizados\n",
    "    alpha_m - Tasa de contaagio de muertos\n",
    "    \"\"\"\n",
    "\n",
    "    return Beta * (I + alpha_h * H + alpha_m * D) / N\n",
    "\n",
    "\n",
    "def beta_w(w=0.8, beta_max=400, k=10, A=100, tipo=None):\n",
    "\n",
    "    if tipo == 's':\n",
    "\n",
    "        resp = beta_max / (1 + A * np.exp(-k * w))\n",
    "\n",
    "    elif tipo == 'a':\n",
    "\n",
    "        resp = beta_max / (1 + A * np.exp(-k * w))\n",
    "\n",
    "    else:\n",
    "\n",
    "        print('\\n\\tTipo no válido. Debe ser \"a\" o \"s\"\\n')\n",
    "\n",
    "    return resp\n",
    "\n",
    "\n",
    "def modelo(pob_compartimiento, Gamma, Omega, epsilon, omega, phi, q, pi=1.7, delta_i=0.4, delta_q=0.1, gamma_h=1/4.4, gamma_i=1/10.8, mu=1/756, rho=1/30, sigma_h=1/1.7, sigma_i=1/3.8, v=0.15):\n",
    "    \"\"\"\n",
    "    Sistema de ecuaciones diferenciales con los siguientes parámetros:\n",
    "    Gamma - Tasa se supesión de la cuarentena\n",
    "    Omega - Tasa de contagio de los individuos en cuarentena\n",
    "    delta_i - Tasa de personas hospitalizadas provieniente del compartimiento de infectados\n",
    "    delta_q - Tasa de personas hospitalizadas provieniente del compartimiento de cuarentena\n",
    "    epsilon - Tasa de pérdida de inmunidad en vacunados\n",
    "    gamma_h - Tasa de recuparación para los hispitalizados\n",
    "    gamma_i - Tasa de recuparación para los infectados\n",
    "    mu - Tasa de muerte natural\n",
    "    omega - Nivel de estabilidad en la región\n",
    "    phi - Tasa de recaida\n",
    "    pi - Tasa de reclutamiento\n",
    "    q - Tasa de ingreso a cuarentena\n",
    "    rho - Tasa de desecho de los cuerpos\n",
    "    sigma_h - Tasa de mortalidad de los individuos que recibieron atención médica\n",
    "    sigma_i - Tasa de mortalidad de los individuos infectados no hospitalizados\n",
    "    v - Tasa de vacunación\n",
    "    \"\"\"\n",
    "\n",
    "    # Cantidades actuales de cada compartimento\n",
    "    S, Q, I, H, R, D = pob_compartimiento\n",
    "\n",
    "    # Total de la poblacion\n",
    "    N = S + Q + I + R + H + D\n",
    "    \n",
    "    Beta_s = beta_w(w, tipo='s')               # Tasa de contacto efectivo de subpoblación asintomática a susceptible\n",
    "    Beta_a = beta_w(w, tipo='a')\n",
    "    \n",
    "    lambda_s = lambda_x(Beta_s, I, H, D, N)\n",
    "    lambda_a = lambda_x(Beta_a, I, H, D, N)\n",
    "    \n",
    "    dSdt = pi - (lambda_s + lambda_a + (1 - omega) * v + mu + q + epsilon) * S + Omega * Q\n",
    "\n",
    "    dQdt = q * S - ((1 - omega) * delta_q - mu - Gamma - Omega) * Q\n",
    "\n",
    "    dIdt = lambda_s * S - ((1 - omega) * delta_i + gamma_i + sigma_i + mu) * I + phi * R + Gamma * Q\n",
    "\n",
    "    dHdt = (1 - omega) * (delta_q * Q + delta_i * I) - (sigma_h + gamma_h + mu) * H\n",
    "\n",
    "    dRdt = (1 - omega) * v * S + gamma_i * I + gamma_h * H - mu * R - phi * R + lambda_a * S - epsilon * R\n",
    "\n",
    "    dDdt = sigma_i * I + sigma_h * H - rho * D\n",
    "\n",
    "    return [dSdt, dQdt, dIdt, dHdt, dRdt, dDdt]"
   ]
  },
  {
   "cell_type": "code",
   "execution_count": 4,
   "metadata": {},
   "outputs": [],
   "source": [
    "def ode_solver(t, initial_conditions, params):\n",
    "    S, Q, I, H, R, D = initial_conditions\n",
    "    Gamma, Omega, epsilon, omega, phi, q = params\n",
    "    res = odeint(modelo, [S, Q, I, H, R, D], t, args=(Gamma, Omega, epsilon, omega, phi, q))\n",
    "    return res"
   ]
  },
  {
   "cell_type": "code",
   "execution_count": 5,
   "metadata": {},
   "outputs": [],
   "source": [
    "def main(S, Q, I, H, R, D, Gamma, Omega, epsilon, omega, phi, q):\n",
    "    initial_conditions = [S, Q, I, H, R, D]\n",
    "    params = (Gamma, Omega, epsilon, omega, phi, q)\n",
    "    periodo = np.arange(0, dias, 1)\n",
    "    sol = ode_solver(periodo, initial_conditions, params)\n",
    "    S, Q, I, H, R, D = sol[:, 0], sol[:, 1], sol[:, 2], sol[:, 3], sol[:, 4], sol[:, 5]\n",
    "    \n",
    "    # Separado\n",
    "    fig = go.Figure()\n",
    "    fig.add_trace(go.Scatter(x=periodo, y=S, mode='lines+markers', name='Suceptibles'))\n",
    "    fig.add_trace(go.Scatter(x=periodo, y=Q, mode='lines+markers', name='Cuarentena'))\n",
    "    fig.add_trace(go.Scatter(x=periodo, y=I, mode='lines+markers', name='Infectados'))\n",
    "    fig.add_trace(go.Scatter(x=periodo, y=R, mode='lines+markers', name='Recuperados'))\n",
    "    fig.add_trace(go.Scatter(x=periodo, y=H, mode='lines+markers', name='Hospitalizados'))\n",
    "    fig.add_trace(go.Scatter(x=periodo, y=D, mode='lines+markers', name='Muertos'))\n",
    "    \n",
    "    if dias <= 30:\n",
    "        step = 1\n",
    "    elif dias <= 90:\n",
    "        step = 7\n",
    "    else:\n",
    "        step = 30\n",
    "    \n",
    "    # Junto\n",
    "    fig.update_layout(title='Simulacion de un modelo de Ebola',\n",
    "                       xaxis_title='Dia',\n",
    "                       yaxis_title='Numero de personas',\n",
    "                       title_x=0.5,\n",
    "                      width=900, height=400\n",
    "                     )\n",
    "    fig.update_xaxes(tickangle=-90, tickformat = None, tickmode='array', tickvals=np.arange(0, dias + 1, step))\n",
    "    if not os.path.exists(\"images\"):\n",
    "        os.mkdir(\"images\")\n",
    "    fig.write_image(\"images/ebola_simulation1.png\")\n",
    "    fig.show()\n",
    "    \n",
    "    # Junto\n",
    "    fig2 = go.Figure()\n",
    "    fig2.add_trace(go.Scatter(x=periodo, y = S + Q, mode='lines+markers', name='Suceptibles'))\n",
    "    fig2.add_trace(go.Scatter(x=periodo, y = I + H + D, mode='lines+markers', name='Infectados'))\n",
    "    fig2.add_trace(go.Scatter(x=periodo, y = R, mode='lines+markers', name='Recuperados'))\n",
    "    fig2.add_trace(go.Scatter(x=periodo, y = N - S - Q - I - H - D - R, mode='lines+markers', name='Muertos'))\n",
    "    \n",
    "    if dias <= 30:\n",
    "        step = 1\n",
    "    elif dias <= 90:\n",
    "        step = 7\n",
    "    else:\n",
    "        step = 30\n",
    "    \n",
    "    # Edit the layout\n",
    "    fig2.update_layout(title='Simulacion de un modelo de Ebola',\n",
    "                       xaxis_title='Dia',\n",
    "                       yaxis_title='Numero de personas',\n",
    "                       title_x=0.5,\n",
    "                      width=900, height=400)\n",
    "    fig2.update_xaxes(tickangle=-90, tickformat = None, tickmode='array', tickvals=np.arange(0, dias + 1, step))\n",
    "    if not os.path.exists(\"images\"):\n",
    "        os.mkdir(\"images\")\n",
    "    fig2.write_image(\"images/ebola_simulation2.png\")\n",
    "    fig2.show()"
   ]
  },
  {
   "cell_type": "code",
   "execution_count": 6,
   "metadata": {},
   "outputs": [
    {
     "data": {
      "application/vnd.jupyter.widget-view+json": {
       "model_id": "b89dbd2364d848068fa18d20396baa4f",
       "version_major": 2,
       "version_minor": 0
      },
      "text/plain": [
       "interactive(children=(IntSlider(value=86000000, description='Susceptibles', layout=Layout(width='99%'), max=86…"
      ]
     },
     "metadata": {},
     "output_type": "display_data"
    }
   ],
   "source": [
    "interact(main,\n",
    "         S = IntSlider(min=0, max=N, step=100, value=S, description='Susceptibles', style=style, layout=slider_layout),\n",
    "         Q = IntSlider(min=0, max=N, step=100, value=Q, description='Cuarentena', style=style, layout=slider_layout),\n",
    "         I = IntSlider(min=0, max=N, step=100, value=I, description='Infectados', style=style, layout=slider_layout),\n",
    "         R = IntSlider(min=0, max=N, step=100, value=R, description='Recuperados', style=style, layout=slider_layout),\n",
    "         H = IntSlider(min=0, max=N, step=100, value=H, description='Hospitalizados', style=style, layout=slider_layout),\n",
    "         D = IntSlider(min=0, max=N, step=100, value=D, description='Muertos por ébola', style=style, layout=slider_layout),\n",
    "         Gamma = FloatSlider(min=0, max=1, step=0.01, value=Gamma, description='Tasa se supesión de la cuarentena', style=style, layout=slider_layout),\n",
    "         Omega = FloatSlider(min=0, max=1, step=0.01, value=Omega, description='Tasa de contagio de los individuos en cuarentena', style=style, layout=slider_layout),\n",
    "         epsilon = FloatSlider(min=0, max=1, step=0.01, value=epsilon, description='Tasa de pérdida de inmunidad en vacunados', style=style, layout=slider_layout),\n",
    "         omega = FloatSlider(min=0, max=1, step=0.01, value=omega, description='Nivel de estabilidad en la región', style=style, layout=slider_layout),\n",
    "         phi = FloatSlider(min=0, max=1, step=0.01, value=phi, description='Tasa de recaída', style=style, layout=slider_layout),\n",
    "         q = FloatSlider(min=0, max=1, step=0.01, value=q, description='Tasa de ingreso a cuarentena', style=style, layout=slider_layout),\n",
    "         dias = IntSlider(min=0, max=100, step=7, value=dias, description='Días', style=style, layout=slider_layout)\n",
    "        );"
   ]
  },
  {
   "cell_type": "code",
   "execution_count": 7,
   "metadata": {},
   "outputs": [],
   "source": [
    "def beta_w(w, beta_max = 400, k =10, A = 100):\n",
    "    return beta_max / (1 + A * np.exp(-k * w))\n",
    "\n",
    "xx = np.arange(0, 1, 0.01)\n",
    "yy = list(map(lambda x: beta_w(x), xx))"
   ]
  },
  {
   "cell_type": "code",
   "execution_count": 8,
   "metadata": {},
   "outputs": [
    {
     "name": "stderr",
     "output_type": "stream",
     "text": [
      "/home/ikerforce/anaconda3/envs/ebola/lib/python3.9/site-packages/seaborn/_decorators.py:36: FutureWarning:\n",
      "\n",
      "Pass the following variables as keyword args: x, y. From version 0.12, the only valid positional argument will be `data`, and passing other arguments without an explicit keyword will result in an error or misinterpretation.\n",
      "\n"
     ]
    },
    {
     "data": {
      "text/plain": [
       "<AxesSubplot:>"
      ]
     },
     "execution_count": 8,
     "metadata": {},
     "output_type": "execute_result"
    },
    {
     "data": {
      "image/png": "[encoded data removed]",
      "text/plain": [
       "<Figure size 432x288 with 1 Axes>"
      ]
     },
     "metadata": {},
     "output_type": "display_data"
    }
   ],
   "source": [
    "sns.set(rc={'axes.facecolor':'w', 'figure.facecolor':'w'})\n",
    "sns.lineplot(xx, yy, color='k', )"
   ]
  },
  {
   "cell_type": "code",
   "execution_count": 9,
   "metadata": {},
   "outputs": [],
   "source": [
    "modelo = \"\"\" i - (lambda_s + lambda_a + (1 - omega) * v + mu + q + epsilon) * S + Omega * Q\n",
    "  * S - ((1 - omega) * delta_q - mu - Gamma - Omega) * Q\n",
    " lambda_s * S - ((1 - omega) * delta_i + gamma_i + sigma_i + mu) * I + (1 - phi) * R + Gamma * Q\n",
    " 1 - omega) * (delta_q * Q + delta_i * I) - (sigma_h + gamma_h + mu) * H\n",
    " 1 - omega) * v * delta + gamma_i * I + gamma_h * H - mu * R - (1 - omega) * R + lambda_a * S - epsilon * R\n",
    " omega_ i * I + omega_h * H - rho * D\"\"\".replace('+', ' ').replace('-', ' ').replace('(', ' ').replace(')', ' ').replace('*', ' ')"
   ]
  },
  {
   "cell_type": "code",
   "execution_count": 10,
   "metadata": {},
   "outputs": [
    {
     "name": "stdout",
     "output_type": "stream",
     "text": [
      "\n",
      "Omega\n",
      "epsilon\n",
      "mu\n",
      "gamma_h\n",
      "sigma_i\n",
      "D\n",
      "gamma_i\n",
      "phi\n",
      "q\n",
      "Q\n",
      "\n",
      "rho\n",
      "delta_q\n",
      "i\n",
      "1\n",
      "I\n",
      "lambda_s\n",
      "H\n",
      "v\n",
      "delta\n",
      "S\n",
      "Q\n",
      "lambda_a\n",
      "delta_i\n",
      "R\n",
      "R\n",
      "\n",
      "omega_h\n",
      "omega\n",
      "H\n",
      "\n",
      "omega_\n",
      "sigma_h\n",
      "Gamma\n"
     ]
    }
   ],
   "source": [
    "modelo_limpio = modelo.split(' ')\n",
    "modelo_limpio.sort()\n",
    "variables = set(modelo_limpio)\n",
    "for v in variables:\n",
    "    print(v)"
   ]
  },
  {
   "cell_type": "code",
   "execution_count": 11,
   "metadata": {},
   "outputs": [
    {
     "name": "stdout",
     "output_type": "stream",
     "text": [
      "Gamma - \n",
      "Omega - \n",
      "delta - \n",
      "delta_i - \n",
      "delta_q - \n",
      "epsilon - \n",
      "gamma_h - \n",
      "gamma_i - \n",
      "lambda_a - \n",
      "lambda_s - \n",
      "mu - \n",
      "omega - \n",
      "omega_h - \n",
      "omega_i - \n",
      "phi - \n",
      "q - \n",
      "rho - \n",
      "sigma_hm - \n",
      "sigma_i - \n",
      "v - \n"
     ]
    }
   ],
   "source": [
    "parametros = \"rho, sigma_hm, Omega, gamma_i, q, omega_i, delta_q, lambda_a, omega, v, epsilon, phi, sigma_i, Gamma, delta_i, lambda_s, gamma_h, delta, omega_h, mu\"\n",
    "parametros = parametros.split(', ')\n",
    "parametros.sort()\n",
    "lista = ''\n",
    "for p in parametros:\n",
    "    print(p + ' - ')\n",
    "    lista = lista + ', ' + p"
   ]
  },
  {
   "cell_type": "code",
   "execution_count": 12,
   "metadata": {},
   "outputs": [
    {
     "name": "stdout",
     "output_type": "stream",
     "text": [
      ", Gamma, Omega, delta, delta_i, delta_q, epsilon, gamma_h, gamma_i, lambda_a, lambda_s, mu, omega, omega_h, omega_i, phi, q, rho, sigma_hm, sigma_i, v\n"
     ]
    }
   ],
   "source": [
    "print(lista)"
   ]
  },
  {
   "cell_type": "code",
   "execution_count": null,
   "metadata": {},
   "outputs": [],
   "source": []
  }
 ],
 "metadata": {
  "kernelspec": {
   "display_name": "Python 3",
   "language": "python",
   "name": "python3"
  },
  "language_info": {
   "codemirror_mode": {
    "name": "ipython",
    "version": 3
   },
   "file_extension": ".py",
   "mimetype": "text/x-python",
   "name": "python",
   "nbconvert_exporter": "python",
   "pygments_lexer": "ipython3",
   "version": "3.7.4"
  }
 },
 "nbformat": 4,
 "nbformat_minor": 2
}
