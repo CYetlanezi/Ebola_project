{
 "cells": [
  {
   "cell_type": "code",
   "execution_count": 1,
   "metadata": {},
   "outputs": [],
   "source": [
    "#https://github.com/silpara/simulators/blob/master/compartmental_models/SEIR%20Simulator%20in%20Python.ipynb\n",
    "import os\n",
    "import sys\n",
    "import matplotlib.pyplot as plt\n",
    "import numpy as np\n",
    "import pandas as pd\n",
    "import seaborn as sns\n",
    "from scipy.integrate import odeint\n",
    "import plotly.graph_objects as go\n",
    "import plotly.io as pio\n",
    "pio.renderers.default = \"notebook\"\n",
    "%matplotlib inline\n",
    "plt.style.use('ggplot')\n",
    "\n",
    "# Jupyter Specifics\n",
    "from IPython.display import HTML\n",
    "from ipywidgets.widgets import interact, IntSlider, FloatSlider, Layout\n",
    "style = {'description_width': '100px'}\n",
    "slider_layout = Layout(width='99%')"
   ]
  },
  {
   "cell_type": "code",
   "execution_count": 2,
   "metadata": {},
   "outputs": [],
   "source": [
    "# Definicion de variables\n",
    "\n",
    "# w - Parametro que mide el impacto de la guerra (afecta al numero de infectados y la disminucion en hospitalizacion)\n",
    "# w esta entre cero y uno\n",
    "w = 0.8\n",
    "# beta - Es una funcion de w que representa impacto de la guerra y la tasa de contacto\n",
    "def beta_w(w, beta_max = 0.4, k =10, A = 100):\n",
    "    return beta_max / (1 + A * np.exp(-k * w))\n",
    "# S - Poblacion susceptible\n",
    "S = 86000000\n",
    "#Q- Poblacion en cuarentena\n",
    "Q = 0.0\n",
    "# I - Poblacion Infectada\n",
    "I = 2619\n",
    "# H - Poblacion en hospitalizacion\n",
    "H = 0\n",
    "# R - Poblacion recuperada\n",
    "R = 0\n",
    "# D - Poblacion que murio\n",
    "D = 1729\n",
    "# N - Poblacion total\n",
    "N = S + Q + I + H + R + D\n",
    "# delta_i - tasa de hopitalización de los infecciosos\n",
    "delta_i = 0.4\n",
    "#delta_q - tasa de hospitalización de los de cuarentena\n",
    "delta_q= 0.1\n",
    "# gamma_i - tasa de recuperacion infecciosos (Tarda 18 dias en recuperarse y lo hace en 60% de los casos)\n",
    "gamma_i = 0.25\n",
    "# gamma_h - tasa de recuperacion de los hospitalizados\n",
    "gamma_h = 0.25\n",
    "# sigma_n - tasa de muerte de los infecciosos\n",
    "sigma_i = 0.8\n",
    "# sigma_h - tasa de muerte hospitalizados\n",
    "sigma_h = 10^(-4)\n",
    "# mu - tasa de muerte natural\n",
    "mu = 0.0035\n",
    "# rho - tasa de deshecho de cuerpos\n",
    "rho = 0.5\n",
    "# alpha_h - tasa de infeccion en hospitales \n",
    "alpha_h = 0.062\n",
    "# alpha_m - tasa de infeccion de muertos \n",
    "alpha_m = 1.1\n",
    "# q - tasa de cuarentena\n",
    "q = 0.1#0.3\n",
    "# v - tasa de vacunacion\n",
    "v = 0.15\n",
    "#  pi - Tasa de natalidad\n",
    "pi = 120\n",
    "# Dias - dias se simulacion\n",
    "dias = 1000\n",
    "# lambda\n",
    "lam = 0.1"
   ]
  },
  {
   "cell_type": "markdown",
   "metadata": {},
   "source": [
    "El modelo:\n",
    "\n",
    "$\\frac{dS}{dt} = \\pi - (\\lambda + v + \\mu + q) S$\n",
    "\n",
    "$\\frac{dQ}{dt} = qS - (1-w) \\delta_Q Q - \\mu Q$\n",
    "\n",
    "$\\frac{dI}{dt} = \\lambda S - ((1-w) \\delta_I + \\gamma_I + \\sigma_I + \\mu) I$\n",
    "\n",
    "$\\frac{dH}{dt} = (1-w) (\\delta_Q Q + \\delta_I I) - (\\sigma_H + \\gamma_H + \\mu) H$\n",
    "\n",
    "$\\frac{dR}{dt} = v S + \\gamma_I I + \\gamma_H H - \\mu R$\n",
    "\n",
    "$\\frac{dD}{dt} = \\sigma_I I + \\sigma_H H - \\rho D$\n",
    "\n",
    "con\n",
    "\n",
    "$\\lambda = \\frac{\\beta (I + \\alpha_H H + \\alpha_M D)}{N}$"
   ]
  },
  {
   "cell_type": "code",
   "execution_count": 3,
   "metadata": {},
   "outputs": [],
   "source": [
    "### DEFINICIÓN DEL MODELO ###\n",
    "\n",
    "def diff_eqs(INP, t, w, delta_i, delta_q, gamma_i, gamma_h, sigma_h, sigma_i, mu, lam, rho, alpha_h, alpha_m, q, v, pi):\n",
    "    \"\"\"\n",
    "    Sistema de ecuaciones diferenciales.\n",
    "    \"\"\"\n",
    "    # Cantidades actuales de cada compartimento\n",
    "    S, Q, I, H, R, D = INP\n",
    "    # Total de la poblacion\n",
    "    N = S + Q + I + R + H + D\n",
    "    \n",
    "    beta = beta_w(w)               # Tasa de contacto efectivo de subpoblación asintomática a susceptible\n",
    "    \n",
    "    lam = beta * (I + alpha_h * H + alpha_m * D)/N\n",
    "    \n",
    "    dSdt = pi - (lam + v + mu + q) * S\n",
    "    dQdt = q * S - (1-w) * delta_q * Q - mu * Q\n",
    "    dIdt = lam * S - ((1-w) * delta_i + gamma_i + sigma_i + mu) * I\n",
    "    dHdt = (1-w) * (delta_q * Q + delta_i * I) - (sigma_h + gamma_h + mu) * H\n",
    "    dRdt = v * S + gamma_i * I + gamma_h * H - mu * R\n",
    "    dDdt = sigma_i  * I + sigma_h * H - rho * D\n",
    "    return [dSdt, dQdt, dIdt, dHdt, dRdt, dDdt]"
   ]
  },
  {
   "cell_type": "code",
   "execution_count": 4,
   "metadata": {},
   "outputs": [],
   "source": [
    "def ode_solver(t, initial_conditions, params):\n",
    "    S, Q, I, H, R, D = initial_conditions\n",
    "    w, delta_i, delta_q, gamma_i, gamma_h, sigma_h, sigma_i, mu, lam, rho, alpha_h, alpha_m, q, v, pi = params\n",
    "    res = odeint(diff_eqs, [S, Q, I, H, R, D], t, args=(w, delta_i, delta_q, gamma_i, gamma_h, sigma_h, sigma_i, mu, lam, rho, alpha_h, alpha_m, q, v, pi))\n",
    "    return res"
   ]
  },
  {
   "cell_type": "code",
   "execution_count": 5,
   "metadata": {},
   "outputs": [],
   "source": [
    "def main(S, Q, I, H, R, D, w, alpha_h, alpha_m, sigma_i, sigma_h, gamma_i, gamma_h, lam, rho, dias):\n",
    "    initial_conditions = [S, Q, I, H, R, D]\n",
    "    params = (w, delta_i, delta_q, gamma_i, gamma_h, sigma_h, sigma_i, mu, lam, rho, alpha_h, alpha_m, q, v, pi)\n",
    "    periodo = np.arange(0, dias, 1)\n",
    "    sol = ode_solver(periodo, initial_conditions, params)\n",
    "    S, Q, I, H, R, D = sol[:, 0], sol[:, 1], sol[:, 2], sol[:, 3], sol[:, 4], sol[:, 5]\n",
    "    \n",
    "    # Separado\n",
    "    fig = go.Figure()\n",
    "    fig.add_trace(go.Scatter(x=periodo, y=S, mode='lines+markers', name='Suceptibles'))\n",
    "    fig.add_trace(go.Scatter(x=periodo, y=Q, mode='lines+markers', name='Cuarentena'))\n",
    "    fig.add_trace(go.Scatter(x=periodo, y=I, mode='lines+markers', name='Infectados'))\n",
    "    fig.add_trace(go.Scatter(x=periodo, y=R, mode='lines+markers', name='Recuperados'))\n",
    "    fig.add_trace(go.Scatter(x=periodo, y=H, mode='lines+markers', name='Hospitalizados'))\n",
    "    fig.add_trace(go.Scatter(x=periodo, y=D, mode='lines+markers', name='Muertos'))\n",
    "    \n",
    "    if dias <= 30:\n",
    "        step = 1\n",
    "    elif dias <= 90:\n",
    "        step = 7\n",
    "    else:\n",
    "        step = 30\n",
    "    \n",
    "    # Junto\n",
    "    fig.update_layout(title='Simulacion de un modelo de Ebola',\n",
    "                       xaxis_title='Dia',\n",
    "                       yaxis_title='Numero de personas',\n",
    "                       title_x=0.5,\n",
    "                      width=900, height=400\n",
    "                     )\n",
    "    fig.update_xaxes(tickangle=-90, tickformat = None, tickmode='array', tickvals=np.arange(0, dias + 1, step))\n",
    "    if not os.path.exists(\"images\"):\n",
    "        os.mkdir(\"images\")\n",
    "    fig.write_image(\"images/ebola_simulation1.png\")\n",
    "    fig.show()\n",
    "    \n",
    "    # Junto\n",
    "    fig2 = go.Figure()\n",
    "    fig2.add_trace(go.Scatter(x=periodo, y = S + Q, mode='lines+markers', name='Suceptibles'))\n",
    "    fig2.add_trace(go.Scatter(x=periodo, y = I + H + D, mode='lines+markers', name='Infectados'))\n",
    "    fig2.add_trace(go.Scatter(x=periodo, y = R, mode='lines+markers', name='Recuperados'))\n",
    "    fig2.add_trace(go.Scatter(x=periodo, y = N - S - Q - I - H - D - R, mode='lines+markers', name='Muertos'))\n",
    "    \n",
    "    if dias <= 30:\n",
    "        step = 1\n",
    "    elif dias <= 90:\n",
    "        step = 7\n",
    "    else:\n",
    "        step = 30\n",
    "    \n",
    "    # Edit the layout\n",
    "    fig2.update_layout(title='Simulacion de un modelo de Ebola',\n",
    "                       xaxis_title='Dia',\n",
    "                       yaxis_title='Numero de personas',\n",
    "                       title_x=0.5,\n",
    "                      width=900, height=400)\n",
    "    fig2.update_xaxes(tickangle=-90, tickformat = None, tickmode='array', tickvals=np.arange(0, dias + 1, step))\n",
    "    if not os.path.exists(\"images\"):\n",
    "        os.mkdir(\"images\")\n",
    "    fig2.write_image(\"images/ebola_simulation2.png\")\n",
    "    fig2.show()"
   ]
  },
  {
   "cell_type": "code",
   "execution_count": 6,
   "metadata": {
    "scrolled": true
   },
   "outputs": [
    {
     "data": {
      "application/vnd.jupyter.widget-view+json": {
       "model_id": "a936848672e741b49b7614398a1d81b7",
       "version_major": 2,
       "version_minor": 0
      },
      "text/plain": [
       "interactive(children=(IntSlider(value=86000000, description='Susceptibles', layout=Layout(width='99%'), max=86…"
      ]
     },
     "metadata": {},
     "output_type": "display_data"
    }
   ],
   "source": [
    "interact(main,\n",
    "         S = IntSlider(min=0, max=N, step=100, value=S, description='Susceptibles', style=style, layout=slider_layout),\n",
    "         Q = IntSlider(min=0, max=N, step=100, value=Q, description='Cuarentena', style=style, layout=slider_layout),\n",
    "         I = IntSlider(min=0, max=N, step=100, value=I, description='Infectados', style=style, layout=slider_layout),\n",
    "         R = IntSlider(min=0, max=N, step=100, value=R, description='Recuperados', style=style, layout=slider_layout),\n",
    "         H = IntSlider(min=0, max=N, step=100, value=H, description='Hospitalizados', style=style, layout=slider_layout),\n",
    "         D = IntSlider(min=0, max=N, step=100, value=D, description='Muertos por bola', style=style, layout=slider_layout),\n",
    "         w = FloatSlider(min=0, max=1, step=0.01, value=w, description='Nivel de guerra', style=style, layout=slider_layout),\n",
    "         alpha_h = FloatSlider(min=0, max=2, step=0.01, value=alpha_h, description='alpha_h', style=style, layout=slider_layout),\n",
    "         alpha_m = FloatSlider(min=0, max=2, step=0.01, value=alpha_m, description='alpha_m', style=style, layout=slider_layout),\n",
    "         sigma_i = FloatSlider(min=0, max=2, step=0.01, value=sigma_i, description='sigma_i', style=style, layout=slider_layout),\n",
    "         sigma_h = FloatSlider(min=0, max=2, step=0.01, value=sigma_h, description='sigma_h', style=style, layout=slider_layout),\n",
    "         gamma_i = FloatSlider(min=0, max=2, step=0.01, value=gamma_i, description='gamma_i', style=style, layout=slider_layout),\n",
    "         gamma_h = FloatSlider(min=0, max=2, step=0.01, value=gamma_h, description='gamma_h', style=style, layout=slider_layout),\n",
    "         lam = FloatSlider(min=0, max=2, step=0.01, value=lam, description='lam', style=style, layout=slider_layout),\n",
    "         rho = FloatSlider(min=0, max=2, step=0.01, value=rho, description='rho', style=style, layout=slider_layout),\n",
    "         dias = IntSlider(min=0, max=100, step=7, value=dias, description='Días', style=style, layout=slider_layout)\n",
    "        );"
   ]
  },
  {
   "cell_type": "code",
   "execution_count": 7,
   "metadata": {},
   "outputs": [],
   "source": [
    "def beta_w(w, beta_max = 400, k =10, A = 100):\n",
    "    return beta_max / (1 + A * np.exp(-k * w))\n",
    "\n",
    "xx = np.arange(0, 1, 0.01)\n",
    "yy = list(map(lambda x: beta_w(x), xx))"
   ]
  },
  {
   "cell_type": "code",
   "execution_count": 8,
   "metadata": {},
   "outputs": [
    {
     "data": {
      "text/plain": [
       "<matplotlib.axes._subplots.AxesSubplot at 0x1b18080a708>"
      ]
     },
     "execution_count": 8,
     "metadata": {},
     "output_type": "execute_result"
    },
    {
     "data": {
      "image/png": "[encoded data removed]",
      "text/plain": [
       "<Figure size 432x288 with 1 Axes>"
      ]
     },
     "metadata": {},
     "output_type": "display_data"
    }
   ],
   "source": [
    "sns.set(rc={'axes.facecolor':'w', 'figure.facecolor':'w'})\n",
    "sns.lineplot(xx, yy, color='k', )"
   ]
  },
  {
   "cell_type": "code",
   "execution_count": null,
   "metadata": {},
   "outputs": [],
   "source": []
  },
  {
   "cell_type": "code",
   "execution_count": null,
   "metadata": {},
   "outputs": [],
   "source": []
  }
 ],
 "metadata": {
  "kernelspec": {
   "display_name": "Python 3",
   "language": "python",
   "name": "python3"
  },
  "language_info": {
   "codemirror_mode": {
    "name": "ipython",
    "version": 3
   },
   "file_extension": ".py",
   "mimetype": "text/x-python",
   "name": "python",
   "nbconvert_exporter": "python",
   "pygments_lexer": "ipython3",
   "version": "3.7.4"
  }
 },
 "nbformat": 4,
 "nbformat_minor": 2
}
